{
 "cells": [
  {
   "cell_type": "markdown",
   "metadata": {},
   "source": [
    "# Rescatar información desde una página web\n",
    "## En este caso, un listado con los archivos Excel que existen en una página web."
   ]
  },
  {
   "cell_type": "markdown",
   "metadata": {},
   "source": [
    "Los modulos que usaremos:"
   ]
  },
  {
   "cell_type": "code",
   "execution_count": 1,
   "metadata": {
    "collapsed": true
   },
   "outputs": [],
   "source": [
    "import re\n",
    "\n",
    "import requests\n",
    "from bs4 import BeautifulSoup"
   ]
  },
  {
   "cell_type": "markdown",
   "metadata": {},
   "source": [
    "Declaramos una cadena de texto con la dirección web a la cual accederemos"
   ]
  },
  {
   "cell_type": "code",
   "execution_count": 2,
   "metadata": {
    "collapsed": true
   },
   "outputs": [],
   "source": [
    "URL_ODEPA = 'http://www.odepa.cl/boletin/precios-futuros-internacionales-de-productos-basicos/'"
   ]
  },
  {
   "cell_type": "markdown",
   "metadata": {},
   "source": [
    "Se utiliza \"requests.get()\" para traer la página"
   ]
  },
  {
   "cell_type": "code",
   "execution_count": 3,
   "metadata": {
    "collapsed": true
   },
   "outputs": [],
   "source": [
    "r = requests.get(URL_ODEPA)"
   ]
  },
  {
   "cell_type": "markdown",
   "metadata": {},
   "source": [
    "r.text contiene el texto de la página web.\n",
    "\n",
    "Utilizamos BeautifulSoup para procesar la página web:"
   ]
  },
  {
   "cell_type": "code",
   "execution_count": 4,
   "metadata": {
    "collapsed": true
   },
   "outputs": [],
   "source": [
    "soup = BeautifulSoup(r.text, 'html.parser')"
   ]
  },
  {
   "cell_type": "code",
   "execution_count": 5,
   "metadata": {
    "collapsed": true
   },
   "outputs": [],
   "source": [
    "todos_hrefs = soup.find_all('a', href=re.compile('.xls'))"
   ]
  },
  {
   "cell_type": "code",
   "execution_count": 6,
   "metadata": {},
   "outputs": [
    {
     "data": {
      "text/plain": [
       "[<a href=\"/wp-content/uploads/2017/06/ResumenDiario19062017.xls\">lunes 19</a>,\n",
       " <a href=\"/wp-content/uploads/2017/06/ResumenDiario20062017.xls\">martes 20</a>,\n",
       " <a href=\"/wp-content/uploads/2017/06/ResumenDiario21062017.xls\">Miércoles 21</a>,\n",
       " <a href=\"/wp-content/uploads/2017/06/ResumenDiario12062017.xls\">lunes 12</a>,\n",
       " <a href=\"/wp-content/uploads/2017/06/ResumenDiario13062017.xls\">martes 13</a>,\n",
       " <a href=\"/wp-content/uploads/2017/06/ResumenDiario14062017.xls\">Miércoles 14</a>,\n",
       " <a href=\"/wp-content/uploads/2017/06/ResumenDiario15062017.xls\">jueves 15</a>,\n",
       " <a href=\"/wp-content/uploads/2017/06/ResumenDiario16062017.xls\">viernes 16</a>,\n",
       " <a href=\"/wp-content/uploads/2017/06/ResumenDiario05062017-1.xls\">lunes 5</a>,\n",
       " <a href=\"/wp-content/uploads/2017/06/ResumenDiario06062017-1.xls\">martes 6</a>,\n",
       " <a href=\"/wp-content/uploads/2017/06/ResumenDiario07062017-1.xls\">Miércoles 7</a>,\n",
       " <a href=\"/wp-content/uploads/2017/06/ResumenDiario08062017-1.xls\">jueves 8</a>,\n",
       " <a href=\"/wp-content/uploads/2017/06/ResumenDiario09062017.xls\">viernes 9</a>,\n",
       " <a href=\"/wp-content/uploads/2017/06/ResumenDiario01062017.xls\">jueves 1</a>,\n",
       " <a href=\"/wp-content/uploads/2017/06/ResumenDiario02062017.xls\">viernes 2</a>,\n",
       " <a href=\"/wp-content/uploads/2017/05/ResumenDiario29052017.xls\">lunes 29</a>,\n",
       " <a href=\"/wp-content/uploads/2017/05/ResumenDiario30052017.xls\">martes 30</a>,\n",
       " <a href=\"/wp-content/uploads/2017/05/ResumenDiario31052017.xls\">Miércoles 31</a>,\n",
       " <a href=\"/wp-content/uploads/2017/05/ResumenDiario22052017.xls\">lunes 22</a>,\n",
       " <a href=\"/wp-content/uploads/2017/05/ResumenDiario23052017.xls\">martes 23</a>,\n",
       " <a href=\"/wp-content/uploads/2017/05/ResumenDiario24052017.xls\">Miércoles 24</a>,\n",
       " <a href=\"/wp-content/uploads/2017/05/ResumenDiario25052017.xls\">jueves 25</a>,\n",
       " <a href=\"/wp-content/uploads/2017/05/ResumenDiario26052017.xls\">viernes 26</a>,\n",
       " <a href=\"/wp-content/uploads/2017/05/ResumenDiario15052017.xls\">lunes 15</a>,\n",
       " <a href=\"/wp-content/uploads/2017/05/ResumenDiario16052017.xls\">martes 16</a>,\n",
       " <a href=\"/wp-content/uploads/2017/05/ResumenDiario17052017.xls\">miércoles 17</a>,\n",
       " <a href=\"/wp-content/uploads/2017/05/ResumenDiario18052017.xls\">jueves 18</a>,\n",
       " <a href=\"/wp-content/uploads/2017/05/ResumenDiario19052017.xls\">viernes 19</a>,\n",
       " <a href=\"/wp-content/uploads/2017/05/ResumenDiario08052017.xls\">lunes 8</a>,\n",
       " <a href=\"/wp-content/uploads/2017/05/ResumenDiario09052017.xls\">martes 9</a>,\n",
       " <a href=\"/wp-content/uploads/2017/05/ResumenDiario10052017.xls\">miércoles 10</a>,\n",
       " <a href=\"/wp-content/uploads/2017/05/ResumenDiario11052017.xls\">jueves 11</a>,\n",
       " <a href=\"/wp-content/uploads/2017/05/ResumenDiario12052017.xls\">viernes 12</a>,\n",
       " <a href=\"/wp-content/uploads/2017/05/ResumenDiario01052017.xls\">lunes 1</a>,\n",
       " <a href=\"/wp-content/uploads/2017/05/ResumenDiario02052017.xls\">martes 2</a>,\n",
       " <a href=\"/wp-content/uploads/2017/05/ResumenDiario03052017.xls\">miércoles 3</a>,\n",
       " <a href=\"/wp-content/uploads/2017/05/ResumenDiario04052017.xls\">jueves 4</a>,\n",
       " <a href=\"/wp-content/uploads/2017/05/ResumenDiario05052017.xls\">viernes 5</a>,\n",
       " <a href=\"/wp-content/uploads/2017/04/ResumenDiario24042017.xls\">lunes 24</a>,\n",
       " <a href=\"/wp-content/uploads/2017/04/ResumenDiario25042017.xls\">martes 25</a>,\n",
       " <a href=\"/wp-content/uploads/2017/04/ResumenDiario26042017.xls\">miércoles 26</a>,\n",
       " <a href=\"/wp-content/uploads/2017/04/ResumenDiario27042017.xls\">jueves 27</a>,\n",
       " <a href=\"/wp-content/uploads/2017/04/ResumenDiario28042017.xls\">viernes 28</a>,\n",
       " <a href=\"/wp-content/uploads/2017/04/ResumenDiario17042017-1.xls\">lunes 17</a>,\n",
       " <a href=\"/wp-content/uploads/2017/04/ResumenDiario18042017-1.xls\">martes 18</a>,\n",
       " <a href=\"/wp-content/uploads/2017/04/ResumenDiario19042017.xls\">miércoles 19</a>,\n",
       " <a href=\"/wp-content/uploads/2017/04/ResumenDiario20042017.xls\">jueves 20</a>,\n",
       " <a href=\"/wp-content/uploads/2017/04/ResumenDiario21042017.xls\">viernes 21</a>,\n",
       " <a href=\"/wp-content/uploads/2017/04/ResumenDiario10042017.xls\">lunes 10</a>,\n",
       " <a href=\"/wp-content/uploads/2017/04/ResumenDiario11042017.xls\">martes 11</a>,\n",
       " <a href=\"/wp-content/uploads/2017/04/ResumenDiario12042017.xls\">miércoles 12</a>,\n",
       " <a href=\"/wp-content/uploads/2017/04/ResumenDiario13042017.xls\">jueves 13</a>,\n",
       " <a href=\"/wp-content/uploads/2017/04/ResumenDiario03042017.xls\">lunes 3</a>,\n",
       " <a href=\"/wp-content/uploads/2017/04/ResumenDiario04042017.xls\">martes 4</a>,\n",
       " <a href=\"/wp-content/uploads/2017/04/ResumenDiario05042017.xls\">miércoles 5</a>,\n",
       " <a href=\"/wp-content/uploads/2017/04/ResumenDiario06042017.xls\">jueves 6</a>,\n",
       " <a href=\"/wp-content/uploads/2017/04/ResumenDiario07042017.xls\">viernes 7</a>,\n",
       " <a href=\"/wp-content/uploads/2017/03/ResumenDiario27032017.xls\">lunes 27</a>,\n",
       " <a href=\"/wp-content/uploads/2017/03/ResumenDiario28032017.xls\">martes 28</a>,\n",
       " <a href=\"/wp-content/uploads/2017/03/ResumenDiario29032017.xls\">miércoles 29</a>,\n",
       " <a href=\"/wp-content/uploads/2017/03/ResumenDiario30032017.xls\">jueves 30</a>,\n",
       " <a href=\"/wp-content/uploads/2017/03/ResumenDiario31032017.xls\">viernes 31</a>,\n",
       " <a href=\"/wp-content/uploads/2017/03/ResumenDiario20032017.xls\">lunes 20</a>,\n",
       " <a href=\"/wp-content/uploads/2017/03/ResumenDiario21032017.xls\">martes 21</a>,\n",
       " <a href=\"/wp-content/uploads/2017/03/ResumenDiario22032017.xls\">miércoles 22</a>,\n",
       " <a href=\"/wp-content/uploads/2017/03/ResumenDiario23032017.xls\">jueves 23</a>,\n",
       " <a href=\"/wp-content/uploads/2017/03/ResumenDiario24032017.xls\">viernes 24</a>,\n",
       " <a href=\"/wp-content/uploads/2017/03/ResumenDiario13032017.xls\">lunes 13</a>,\n",
       " <a href=\"/wp-content/uploads/2017/03/ResumenDiario14032017.xls\">martes 14</a>,\n",
       " <a href=\"/wp-content/uploads/2017/03/ResumenDiario15032017.xls\">miércoles 15</a>,\n",
       " <a href=\"/wp-content/uploads/2017/03/ResumenDiario16032017.xls\">jueves 16</a>,\n",
       " <a href=\"/wp-content/uploads/2017/03/ResumenDiario17032017.xls\">viernes 17</a>,\n",
       " <a href=\"/wp-content/uploads/2017/03/ResumenDiario06032017.xls\">lunes 6</a>,\n",
       " <a href=\"/wp-content/uploads/2017/03/ResumenDiario07032017.xls\">martes 7</a>,\n",
       " <a href=\"/wp-content/uploads/2017/03/ResumenDiario08032017.xls\">miércoles 8</a>,\n",
       " <a href=\"/wp-content/uploads/2017/03/ResumenDiario09032017.xls\">jueves 9</a>,\n",
       " <a href=\"/wp-content/uploads/2017/03/ResumenDiario10032017.xls\">viernes 10</a>,\n",
       " <a href=\"/wp-content/uploads/2017/03/ResumenDiario01032017-1.xls\">miércoles 1</a>,\n",
       " <a href=\"/wp-content/uploads/2017/03/ResumenDiario02032017.xls\">jueves 2</a>,\n",
       " <a href=\"/wp-content/uploads/2017/03/ResumenDiario03032017.xls\">viernes 3</a>,\n",
       " <a href=\"/wp-content/uploads/2017/02/ResumenDiario27022017.xls\">lunes 27</a>,\n",
       " <a href=\"/wp-content/uploads/2017/02/ResumenDiario28022017.xls\">martes 28</a>,\n",
       " <a href=\"/wp-content/uploads/2017/02/ResumenDiario20022017-1.xls\">lunes 20</a>,\n",
       " <a href=\"/wp-content/uploads/2017/02/ResumenDiario21022017.xls\">martes 21</a>,\n",
       " <a href=\"/wp-content/uploads/2017/02/ResumenDiario22022017.xls\">miércoles 22</a>,\n",
       " <a href=\"/wp-content/uploads/2017/02/ResumenDiario23022017.xls\">jueves 23</a>,\n",
       " <a href=\"/wp-content/uploads/2017/02/ResumenDiario24022017.xls\">viernes 24</a>,\n",
       " <a href=\"/wp-content/uploads/2017/02/ResumenDiario13022017.xls\">lunes 13</a>,\n",
       " <a href=\"/wp-content/uploads/2017/02/ResumenDiario14022017.xls\">martes 14</a>,\n",
       " <a href=\"/wp-content/uploads/2017/02/ResumenDiario15022017.xls\">miércoles 15</a>,\n",
       " <a href=\"/wp-content/uploads/2017/02/ResumenDiario16022017.xls\">jueves 16</a>,\n",
       " <a href=\"/wp-content/uploads/2017/02/ResumenDiario17022017-1.xls\">viernes 17</a>,\n",
       " <a href=\"/wp-content/uploads/2017/02/ResumenDiario06022017.xls\">lunes 6</a>,\n",
       " <a href=\"/wp-content/uploads/2017/02/ResumenDiario07022017.xls\">martes 7</a>,\n",
       " <a href=\"/wp-content/uploads/2017/02/ResumenDiario08022017.xls\">miércoles 8</a>,\n",
       " <a href=\"/wp-content/uploads/2017/02/ResumenDiario09022017.xls\">jueves 9</a>,\n",
       " <a href=\"/wp-content/uploads/2017/02/ResumenDiario10022017.xls\">viernes 10</a>,\n",
       " <a href=\"/wp-content/uploads/2017/02/ResumenDiario01022017-1.xls\">miércoles 1</a>,\n",
       " <a href=\"/wp-content/uploads/2017/02/ResumenDiario02022017-1.xls\">jueves 2</a>,\n",
       " <a href=\"/wp-content/uploads/2017/02/ResumenDiario03022017-1.xls\">viernes 3</a>,\n",
       " <a href=\"/wp-content/uploads/2017/01/ResumenDiario30012017.xls\">lunes 30</a>,\n",
       " <a href=\"/wp-content/uploads/2017/01/ResumenDiario31012017.xls\">martes 31</a>,\n",
       " <a href=\"/wp-content/uploads/2017/01/ResumenDiario23012017.xls\">lunes 23</a>,\n",
       " <a href=\"/wp-content/uploads/2017/01/ResumenDiario24012017.xls\">martes 24</a>,\n",
       " <a href=\"/wp-content/uploads/2017/01/ResumenDiario25012017.xls\">miércoles 25</a>,\n",
       " <a href=\"/wp-content/uploads/2017/01/ResumenDiario26012017.xls\">jueves 26</a>,\n",
       " <a href=\"/wp-content/uploads/2017/01/ResumenDiario27012017.xls\">viernes 27</a>,\n",
       " <a href=\"/wp-content/uploads/2017/01/ResumenDiario16012017.xls\">lunes 16</a>,\n",
       " <a href=\"/wp-content/uploads/2017/01/ResumenDiario17012017.xls\">martes 17</a>,\n",
       " <a href=\"/wp-content/uploads/2017/01/ResumenDiario18012017.xls\">miércoles 18</a>,\n",
       " <a href=\"/wp-content/uploads/2017/01/ResumenDiario19012017.xls\">jueves 19</a>,\n",
       " <a href=\"/wp-content/uploads/2017/01/ResumenDiario20012017.xls\">viernes 20</a>,\n",
       " <a href=\"/wp-content/uploads/2017/01/ResumenDiario09012017.xls\">lunes 9</a>,\n",
       " <a href=\"/wp-content/uploads/2017/01/ResumenDiario10012017.xls\">martes 10</a>,\n",
       " <a href=\"/wp-content/uploads/2017/01/ResumenDiario11012017-1.xls\">miércoles 11</a>,\n",
       " <a href=\"/wp-content/uploads/2017/01/ResumenDiario12012017.xls\">jueves 12</a>,\n",
       " <a href=\"/wp-content/uploads/2017/01/ResumenDiario13012017.xls\">viernes 13</a>,\n",
       " <a href=\"/wp-content/uploads/2017/01/ResumenDiario02012017.xls\">lunes 2</a>,\n",
       " <a href=\"/wp-content/uploads/2017/01/ResumenDiario03012017.xls\">martes 3</a>,\n",
       " <a href=\"/wp-content/uploads/2017/01/ResumenDiario04012017.xls\">miércoles 4</a>,\n",
       " <a href=\"/wp-content/uploads/2017/01/ResumenDiario05012017.xls\">jueves 5</a>,\n",
       " <a href=\"/wp-content/uploads/2017/01/ResumenDiario06012017.xls\">viernes 6</a>]"
      ]
     },
     "execution_count": 6,
     "metadata": {},
     "output_type": "execute_result"
    }
   ],
   "source": [
    "todos_hrefs"
   ]
  },
  {
   "cell_type": "code",
   "execution_count": 8,
   "metadata": {
    "collapsed": true
   },
   "outputs": [],
   "source": [
    "direcciones_archivos = [a['href'] for a in todos_hrefs]"
   ]
  },
  {
   "cell_type": "code",
   "execution_count": 9,
   "metadata": {},
   "outputs": [
    {
     "data": {
      "text/plain": [
       "['/wp-content/uploads/2017/06/ResumenDiario19062017.xls',\n",
       " '/wp-content/uploads/2017/06/ResumenDiario20062017.xls',\n",
       " '/wp-content/uploads/2017/06/ResumenDiario21062017.xls',\n",
       " '/wp-content/uploads/2017/06/ResumenDiario12062017.xls',\n",
       " '/wp-content/uploads/2017/06/ResumenDiario13062017.xls',\n",
       " '/wp-content/uploads/2017/06/ResumenDiario14062017.xls',\n",
       " '/wp-content/uploads/2017/06/ResumenDiario15062017.xls',\n",
       " '/wp-content/uploads/2017/06/ResumenDiario16062017.xls',\n",
       " '/wp-content/uploads/2017/06/ResumenDiario05062017-1.xls',\n",
       " '/wp-content/uploads/2017/06/ResumenDiario06062017-1.xls',\n",
       " '/wp-content/uploads/2017/06/ResumenDiario07062017-1.xls',\n",
       " '/wp-content/uploads/2017/06/ResumenDiario08062017-1.xls',\n",
       " '/wp-content/uploads/2017/06/ResumenDiario09062017.xls',\n",
       " '/wp-content/uploads/2017/06/ResumenDiario01062017.xls',\n",
       " '/wp-content/uploads/2017/06/ResumenDiario02062017.xls',\n",
       " '/wp-content/uploads/2017/05/ResumenDiario29052017.xls',\n",
       " '/wp-content/uploads/2017/05/ResumenDiario30052017.xls',\n",
       " '/wp-content/uploads/2017/05/ResumenDiario31052017.xls',\n",
       " '/wp-content/uploads/2017/05/ResumenDiario22052017.xls',\n",
       " '/wp-content/uploads/2017/05/ResumenDiario23052017.xls',\n",
       " '/wp-content/uploads/2017/05/ResumenDiario24052017.xls',\n",
       " '/wp-content/uploads/2017/05/ResumenDiario25052017.xls',\n",
       " '/wp-content/uploads/2017/05/ResumenDiario26052017.xls',\n",
       " '/wp-content/uploads/2017/05/ResumenDiario15052017.xls',\n",
       " '/wp-content/uploads/2017/05/ResumenDiario16052017.xls',\n",
       " '/wp-content/uploads/2017/05/ResumenDiario17052017.xls',\n",
       " '/wp-content/uploads/2017/05/ResumenDiario18052017.xls',\n",
       " '/wp-content/uploads/2017/05/ResumenDiario19052017.xls',\n",
       " '/wp-content/uploads/2017/05/ResumenDiario08052017.xls',\n",
       " '/wp-content/uploads/2017/05/ResumenDiario09052017.xls',\n",
       " '/wp-content/uploads/2017/05/ResumenDiario10052017.xls',\n",
       " '/wp-content/uploads/2017/05/ResumenDiario11052017.xls',\n",
       " '/wp-content/uploads/2017/05/ResumenDiario12052017.xls',\n",
       " '/wp-content/uploads/2017/05/ResumenDiario01052017.xls',\n",
       " '/wp-content/uploads/2017/05/ResumenDiario02052017.xls',\n",
       " '/wp-content/uploads/2017/05/ResumenDiario03052017.xls',\n",
       " '/wp-content/uploads/2017/05/ResumenDiario04052017.xls',\n",
       " '/wp-content/uploads/2017/05/ResumenDiario05052017.xls',\n",
       " '/wp-content/uploads/2017/04/ResumenDiario24042017.xls',\n",
       " '/wp-content/uploads/2017/04/ResumenDiario25042017.xls',\n",
       " '/wp-content/uploads/2017/04/ResumenDiario26042017.xls',\n",
       " '/wp-content/uploads/2017/04/ResumenDiario27042017.xls',\n",
       " '/wp-content/uploads/2017/04/ResumenDiario28042017.xls',\n",
       " '/wp-content/uploads/2017/04/ResumenDiario17042017-1.xls',\n",
       " '/wp-content/uploads/2017/04/ResumenDiario18042017-1.xls',\n",
       " '/wp-content/uploads/2017/04/ResumenDiario19042017.xls',\n",
       " '/wp-content/uploads/2017/04/ResumenDiario20042017.xls',\n",
       " '/wp-content/uploads/2017/04/ResumenDiario21042017.xls',\n",
       " '/wp-content/uploads/2017/04/ResumenDiario10042017.xls',\n",
       " '/wp-content/uploads/2017/04/ResumenDiario11042017.xls',\n",
       " '/wp-content/uploads/2017/04/ResumenDiario12042017.xls',\n",
       " '/wp-content/uploads/2017/04/ResumenDiario13042017.xls',\n",
       " '/wp-content/uploads/2017/04/ResumenDiario03042017.xls',\n",
       " '/wp-content/uploads/2017/04/ResumenDiario04042017.xls',\n",
       " '/wp-content/uploads/2017/04/ResumenDiario05042017.xls',\n",
       " '/wp-content/uploads/2017/04/ResumenDiario06042017.xls',\n",
       " '/wp-content/uploads/2017/04/ResumenDiario07042017.xls',\n",
       " '/wp-content/uploads/2017/03/ResumenDiario27032017.xls',\n",
       " '/wp-content/uploads/2017/03/ResumenDiario28032017.xls',\n",
       " '/wp-content/uploads/2017/03/ResumenDiario29032017.xls',\n",
       " '/wp-content/uploads/2017/03/ResumenDiario30032017.xls',\n",
       " '/wp-content/uploads/2017/03/ResumenDiario31032017.xls',\n",
       " '/wp-content/uploads/2017/03/ResumenDiario20032017.xls',\n",
       " '/wp-content/uploads/2017/03/ResumenDiario21032017.xls',\n",
       " '/wp-content/uploads/2017/03/ResumenDiario22032017.xls',\n",
       " '/wp-content/uploads/2017/03/ResumenDiario23032017.xls',\n",
       " '/wp-content/uploads/2017/03/ResumenDiario24032017.xls',\n",
       " '/wp-content/uploads/2017/03/ResumenDiario13032017.xls',\n",
       " '/wp-content/uploads/2017/03/ResumenDiario14032017.xls',\n",
       " '/wp-content/uploads/2017/03/ResumenDiario15032017.xls',\n",
       " '/wp-content/uploads/2017/03/ResumenDiario16032017.xls',\n",
       " '/wp-content/uploads/2017/03/ResumenDiario17032017.xls',\n",
       " '/wp-content/uploads/2017/03/ResumenDiario06032017.xls',\n",
       " '/wp-content/uploads/2017/03/ResumenDiario07032017.xls',\n",
       " '/wp-content/uploads/2017/03/ResumenDiario08032017.xls',\n",
       " '/wp-content/uploads/2017/03/ResumenDiario09032017.xls',\n",
       " '/wp-content/uploads/2017/03/ResumenDiario10032017.xls',\n",
       " '/wp-content/uploads/2017/03/ResumenDiario01032017-1.xls',\n",
       " '/wp-content/uploads/2017/03/ResumenDiario02032017.xls',\n",
       " '/wp-content/uploads/2017/03/ResumenDiario03032017.xls',\n",
       " '/wp-content/uploads/2017/02/ResumenDiario27022017.xls',\n",
       " '/wp-content/uploads/2017/02/ResumenDiario28022017.xls',\n",
       " '/wp-content/uploads/2017/02/ResumenDiario20022017-1.xls',\n",
       " '/wp-content/uploads/2017/02/ResumenDiario21022017.xls',\n",
       " '/wp-content/uploads/2017/02/ResumenDiario22022017.xls',\n",
       " '/wp-content/uploads/2017/02/ResumenDiario23022017.xls',\n",
       " '/wp-content/uploads/2017/02/ResumenDiario24022017.xls',\n",
       " '/wp-content/uploads/2017/02/ResumenDiario13022017.xls',\n",
       " '/wp-content/uploads/2017/02/ResumenDiario14022017.xls',\n",
       " '/wp-content/uploads/2017/02/ResumenDiario15022017.xls',\n",
       " '/wp-content/uploads/2017/02/ResumenDiario16022017.xls',\n",
       " '/wp-content/uploads/2017/02/ResumenDiario17022017-1.xls',\n",
       " '/wp-content/uploads/2017/02/ResumenDiario06022017.xls',\n",
       " '/wp-content/uploads/2017/02/ResumenDiario07022017.xls',\n",
       " '/wp-content/uploads/2017/02/ResumenDiario08022017.xls',\n",
       " '/wp-content/uploads/2017/02/ResumenDiario09022017.xls',\n",
       " '/wp-content/uploads/2017/02/ResumenDiario10022017.xls',\n",
       " '/wp-content/uploads/2017/02/ResumenDiario01022017-1.xls',\n",
       " '/wp-content/uploads/2017/02/ResumenDiario02022017-1.xls',\n",
       " '/wp-content/uploads/2017/02/ResumenDiario03022017-1.xls',\n",
       " '/wp-content/uploads/2017/01/ResumenDiario30012017.xls',\n",
       " '/wp-content/uploads/2017/01/ResumenDiario31012017.xls',\n",
       " '/wp-content/uploads/2017/01/ResumenDiario23012017.xls',\n",
       " '/wp-content/uploads/2017/01/ResumenDiario24012017.xls',\n",
       " '/wp-content/uploads/2017/01/ResumenDiario25012017.xls',\n",
       " '/wp-content/uploads/2017/01/ResumenDiario26012017.xls',\n",
       " '/wp-content/uploads/2017/01/ResumenDiario27012017.xls',\n",
       " '/wp-content/uploads/2017/01/ResumenDiario16012017.xls',\n",
       " '/wp-content/uploads/2017/01/ResumenDiario17012017.xls',\n",
       " '/wp-content/uploads/2017/01/ResumenDiario18012017.xls',\n",
       " '/wp-content/uploads/2017/01/ResumenDiario19012017.xls',\n",
       " '/wp-content/uploads/2017/01/ResumenDiario20012017.xls',\n",
       " '/wp-content/uploads/2017/01/ResumenDiario09012017.xls',\n",
       " '/wp-content/uploads/2017/01/ResumenDiario10012017.xls',\n",
       " '/wp-content/uploads/2017/01/ResumenDiario11012017-1.xls',\n",
       " '/wp-content/uploads/2017/01/ResumenDiario12012017.xls',\n",
       " '/wp-content/uploads/2017/01/ResumenDiario13012017.xls',\n",
       " '/wp-content/uploads/2017/01/ResumenDiario02012017.xls',\n",
       " '/wp-content/uploads/2017/01/ResumenDiario03012017.xls',\n",
       " '/wp-content/uploads/2017/01/ResumenDiario04012017.xls',\n",
       " '/wp-content/uploads/2017/01/ResumenDiario05012017.xls',\n",
       " '/wp-content/uploads/2017/01/ResumenDiario06012017.xls']"
      ]
     },
     "execution_count": 9,
     "metadata": {},
     "output_type": "execute_result"
    }
   ],
   "source": [
    "direcciones_archivos"
   ]
  }
 ],
 "metadata": {
  "kernelspec": {
   "display_name": "Python 3",
   "language": "python",
   "name": "python3"
  },
  "language_info": {
   "codemirror_mode": {
    "name": "ipython",
    "version": 3
   },
   "file_extension": ".py",
   "mimetype": "text/x-python",
   "name": "python",
   "nbconvert_exporter": "python",
   "pygments_lexer": "ipython3",
   "version": "3.6.1"
  }
 },
 "nbformat": 4,
 "nbformat_minor": 2
}
